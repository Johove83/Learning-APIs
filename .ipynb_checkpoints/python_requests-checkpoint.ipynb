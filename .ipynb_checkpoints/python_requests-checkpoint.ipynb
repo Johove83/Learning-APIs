{
 "cells": [
  {
   "cell_type": "markdown",
   "metadata": {},
   "source": [
    "## Ice Breakers on Request"
   ]
  },
  {
   "cell_type": "markdown",
   "metadata": {},
   "source": [
    "### Import requests library"
   ]
  },
  {
   "cell_type": "code",
   "execution_count": 1,
   "metadata": {},
   "outputs": [],
   "source": [
    "import requests"
   ]
  },
  {
   "cell_type": "markdown",
   "metadata": {},
   "source": [
    "### Declare `request_urls`"
   ]
  },
  {
   "cell_type": "code",
   "execution_count": 2,
   "metadata": {},
   "outputs": [],
   "source": [
    "# Declare `url` variables\n",
    "bitcoin_price_url = \"https://api.coindesk.com/v1/bpi/currentprice.json\"\n",
    "exchange_rate_url = \"https://open.er-api.com/v6/latest/CAD\"\n",
    "us_treasury_url = \"https://api.usaspending.gov//api/v2/references/agency/456/\"\n",
    "us_gdp_data_url = \"http://api.worldbank.org/v2/country/us?format=json\""
   ]
  },
  {
   "cell_type": "markdown",
   "metadata": {},
   "source": [
    "### Execute `GET` request using `requests` library"
   ]
  },
  {
   "cell_type": "code",
   "execution_count": 3,
   "metadata": {},
   "outputs": [
    {
     "data": {
      "text/plain": [
       "<Response [200]>"
      ]
     },
     "execution_count": 3,
     "metadata": {},
     "output_type": "execute_result"
    }
   ],
   "source": [
    "# Execute `GET` request with url\n",
    "requests.get(\"https://api.coindesk.com/v1/bpi/currentprice.json\")\n",
    "requests.get(\"https://open.er-api.com/v6/latest/CAD\")\n",
    "requests.get(\"https://api.usaspending.gov//api/v2/references/agency/456/\")\n",
    "requests.get(\"http://api.worldbank.org/v2/country/us?format=json\")"
   ]
  },
  {
   "cell_type": "markdown",
   "metadata": {},
   "source": [
    "### Get response `status code`"
   ]
  },
  {
   "cell_type": "code",
   "execution_count": 4,
   "metadata": {},
   "outputs": [],
   "source": [
    "# Print `response_data variable`\n",
    "response_data = requests.get(\"https://api.coindesk.com/v1/bpi/currentprice.json\")\n",
    "response_data1 = requests.get(\"https://open.er-api.com/v6/latest/CAD\")\n",
    "response_data2 = requests.get(\"https://api.usaspending.gov//api/v2/references/agency/456/\")\n",
    "response_data3 = requests.get(\"http://api.worldbank.org/v2/country/us?format=json\")"
   ]
  },
  {
   "cell_type": "markdown",
   "metadata": {},
   "source": [
    "### Extract response `content`"
   ]
  },
  {
   "cell_type": "code",
   "execution_count": 5,
   "metadata": {},
   "outputs": [
    {
     "name": "stdout",
     "output_type": "stream",
     "text": [
      "<Response [200]>\n"
     ]
    }
   ],
   "source": [
    "# Store response using `content` attribute\n",
    "response_content = response_data.content\n",
    "print(response_data)"
   ]
  },
  {
   "cell_type": "markdown",
   "metadata": {},
   "source": [
    "### Convert output to JSON"
   ]
  },
  {
   "cell_type": "code",
   "execution_count": 6,
   "metadata": {},
   "outputs": [],
   "source": [
    "# Format data as JSON\n"
   ]
  },
  {
   "cell_type": "markdown",
   "metadata": {},
   "source": [
    "### Format data with `json.dumps`"
   ]
  },
  {
   "cell_type": "code",
   "execution_count": 7,
   "metadata": {},
   "outputs": [
    {
     "name": "stdout",
     "output_type": "stream",
     "text": [
      "{\n",
      "    \"time\": {\n",
      "        \"updated\": \"Jul 28, 2022 01:27:00 UTC\",\n",
      "        \"updatedISO\": \"2022-07-28T01:27:00+00:00\",\n",
      "        \"updateduk\": \"Jul 28, 2022 at 02:27 BST\"\n",
      "    },\n",
      "    \"disclaimer\": \"This data was produced from the CoinDesk Bitcoin Price Index (USD). Non-USD currency data converted using hourly conversion rate from openexchangerates.org\",\n",
      "    \"chartName\": \"Bitcoin\",\n",
      "    \"bpi\": {\n",
      "        \"USD\": {\n",
      "            \"code\": \"USD\",\n",
      "            \"symbol\": \"&#36;\",\n",
      "            \"rate\": \"22,759.1849\",\n",
      "            \"description\": \"United States Dollar\",\n",
      "            \"rate_float\": 22759.1849\n",
      "        },\n",
      "        \"GBP\": {\n",
      "            \"code\": \"GBP\",\n",
      "            \"symbol\": \"&pound;\",\n",
      "            \"rate\": \"19,017.3928\",\n",
      "            \"description\": \"British Pound Sterling\",\n",
      "            \"rate_float\": 19017.3928\n",
      "        },\n",
      "        \"EUR\": {\n",
      "            \"code\": \"EUR\",\n",
      "            \"symbol\": \"&euro;\",\n",
      "            \"rate\": \"22,170.7690\",\n",
      "            \"description\": \"Euro\",\n",
      "            \"rate_float\": 22170.769\n",
      "        }\n",
      "    }\n",
      "}\n"
     ]
    }
   ],
   "source": [
    "import json\n",
    "data = response_data.json()\n",
    "print(json.dumps(data, indent=4))\n",
    "# Use json.dumps to format data"
   ]
  },
  {
   "cell_type": "markdown",
   "metadata": {},
   "source": [
    "### Select value and store as variable"
   ]
  },
  {
   "cell_type": "code",
   "execution_count": 8,
   "metadata": {},
   "outputs": [],
   "source": [
    "# Select bitcoin values\n",
    "valueUSD = data['bpi']['USD']['description']\n",
    "rate = data['bpi']['USD']['rate']\n",
    "\n",
    "\n"
   ]
  },
  {
   "cell_type": "code",
   "execution_count": 9,
   "metadata": {},
   "outputs": [
    {
     "name": "stdout",
     "output_type": "stream",
     "text": [
      "Country: United States Dollar\n",
      "GDP Value: $22,759.1849\n"
     ]
    }
   ],
   "source": [
    "# Print selected values\n",
    "print(\"Country: \" + valueUSD)\n",
    "print(\"GDP Value: $\" + rate)"
   ]
  }
 ],
 "metadata": {
  "kernelspec": {
   "display_name": "Python 3 (ipykernel)",
   "language": "python",
   "name": "python3"
  },
  "language_info": {
   "codemirror_mode": {
    "name": "ipython",
    "version": 3
   },
   "file_extension": ".py",
   "mimetype": "text/x-python",
   "name": "python",
   "nbconvert_exporter": "python",
   "pygments_lexer": "ipython3",
   "version": "3.7.13"
  },
  "nteract": {
   "version": "0.28.0"
  }
 },
 "nbformat": 4,
 "nbformat_minor": 4
}
