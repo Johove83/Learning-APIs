{
 "cells": [
  {
   "cell_type": "markdown",
   "metadata": {},
   "source": [
    "# House of Requests"
   ]
  },
  {
   "cell_type": "markdown",
   "metadata": {},
   "source": [
    "Use the `Deck of Cards` API to play a game of BlackJack with a partner. Parameterize the `Deck of Cards` API `request urls` in order to create the deck of cards, as well as draw cards for the game."
   ]
  },
  {
   "cell_type": "code",
   "execution_count": 1,
   "metadata": {},
   "outputs": [],
   "source": [
    "import requests\n",
    "import json"
   ]
  },
  {
   "cell_type": "markdown",
   "metadata": {},
   "source": [
    "## Prep for the Game"
   ]
  },
  {
   "cell_type": "code",
   "execution_count": 2,
   "metadata": {},
   "outputs": [],
   "source": [
    "# Declare request url to create deck id\n",
    "create_deck_url = f\"https://deckofcardsapi.com/api/deck/new/shuffle/?deck_count=6\"\n",
    "\n",
    "# Execute create deck url\n",
    "response_data = requests.get(create_deck_url).json()\n"
   ]
  },
  {
   "cell_type": "markdown",
   "metadata": {},
   "source": [
    "### Parse JSON and extract `deck_id`"
   ]
  },
  {
   "cell_type": "code",
   "execution_count": 3,
   "metadata": {},
   "outputs": [
    {
     "name": "stdout",
     "output_type": "stream",
     "text": [
      "{\n",
      "    \"success\": true,\n",
      "    \"deck_id\": \"t3jx4c299kpp\",\n",
      "    \"remaining\": 312,\n",
      "    \"shuffled\": true\n",
      "}\n"
     ]
    }
   ],
   "source": [
    "# Select deck_id\n",
    "print(json.dumps(response_data, indent=4))\n",
    "deck_id = response_data['deck_id']"
   ]
  },
  {
   "cell_type": "markdown",
   "metadata": {},
   "source": [
    "### Declare request urls to draw cards and shuffle deck"
   ]
  },
  {
   "cell_type": "code",
   "execution_count": 4,
   "metadata": {},
   "outputs": [],
   "source": [
    "# Declare draw_cards_url and shuffle_deck_url\n",
    "# Use string interpolation to incorporate the deck_id\n",
    "draw_cards_url = f\"https://deckofcardsapi.com/api/deck/{deck_id}/draw/?count=2\"\n",
    "shuffle_deck_url = f\"https://deckofcardsapi.com/api/deck/{deck_id}/shuffle/\"\n",
    "draw_one_url = f\"https://deckofcardsapi.com/api/deck/{deck_id}/draw/?count=1\"\n"
   ]
  },
  {
   "cell_type": "markdown",
   "metadata": {},
   "source": [
    "## Player 1 Turn"
   ]
  },
  {
   "cell_type": "markdown",
   "metadata": {},
   "source": [
    "### Draw two cards"
   ]
  },
  {
   "cell_type": "code",
   "execution_count": 5,
   "metadata": {},
   "outputs": [
    {
     "name": "stdout",
     "output_type": "stream",
     "text": [
      "{\n",
      "    \"success\": true,\n",
      "    \"deck_id\": \"t3jx4c299kpp\",\n",
      "    \"cards\": [\n",
      "        {\n",
      "            \"code\": \"7C\",\n",
      "            \"image\": \"https://deckofcardsapi.com/static/img/7C.png\",\n",
      "            \"images\": {\n",
      "                \"svg\": \"https://deckofcardsapi.com/static/img/7C.svg\",\n",
      "                \"png\": \"https://deckofcardsapi.com/static/img/7C.png\"\n",
      "            },\n",
      "            \"value\": \"7\",\n",
      "            \"suit\": \"CLUBS\"\n",
      "        },\n",
      "        {\n",
      "            \"code\": \"2S\",\n",
      "            \"image\": \"https://deckofcardsapi.com/static/img/2S.png\",\n",
      "            \"images\": {\n",
      "                \"svg\": \"https://deckofcardsapi.com/static/img/2S.svg\",\n",
      "                \"png\": \"https://deckofcardsapi.com/static/img/2S.png\"\n",
      "            },\n",
      "            \"value\": \"2\",\n",
      "            \"suit\": \"SPADES\"\n",
      "        }\n",
      "    ],\n",
      "    \"remaining\": 310\n",
      "}\n"
     ]
    }
   ],
   "source": [
    "# Draw two cards\n",
    "draw_cards = requests.get(draw_cards_url).json()\n",
    "print(json.dumps(draw_cards, indent=4))"
   ]
  },
  {
   "cell_type": "markdown",
   "metadata": {},
   "source": [
    "### Parse and extract `value` and `suit` elements from JSON output, for each card"
   ]
  },
  {
   "cell_type": "code",
   "execution_count": 6,
   "metadata": {},
   "outputs": [
    {
     "name": "stdout",
     "output_type": "stream",
     "text": [
      "7 of CLUBS\n",
      "2 of SPADES\n"
     ]
    }
   ],
   "source": [
    "# Select returned card's value and suit (i.e. 3 of clubs)\n",
    "value1 = draw_cards['cards'][0]['value']\n",
    "suit1 = draw_cards['cards'][0]['suit']\n",
    "player_1_card_1 = f\"{value1} of {suit1}\"\n",
    "\n",
    "value2 = draw_cards['cards'][1]['value']\n",
    "suit2 = draw_cards['cards'][1]['suit']\n",
    "player_1_card_1 = f\"{value1} of {suit1}\"\n",
    "player_1_card_2 = f\"{value2} of {suit2}\"\n",
    "\n",
    "# Print player cards\n",
    "print(player_1_card_1)\n",
    "print(player_1_card_2)"
   ]
  },
  {
   "cell_type": "markdown",
   "metadata": {},
   "source": [
    "### Decide whether to draw another card or skip to next player turn"
   ]
  },
  {
   "cell_type": "code",
   "execution_count": 7,
   "metadata": {},
   "outputs": [
    {
     "name": "stdout",
     "output_type": "stream",
     "text": [
      "{\n",
      "    \"success\": true,\n",
      "    \"deck_id\": \"t3jx4c299kpp\",\n",
      "    \"cards\": [\n",
      "        {\n",
      "            \"code\": \"2S\",\n",
      "            \"image\": \"https://deckofcardsapi.com/static/img/2S.png\",\n",
      "            \"images\": {\n",
      "                \"svg\": \"https://deckofcardsapi.com/static/img/2S.svg\",\n",
      "                \"png\": \"https://deckofcardsapi.com/static/img/2S.png\"\n",
      "            },\n",
      "            \"value\": \"2\",\n",
      "            \"suit\": \"SPADES\"\n",
      "        }\n",
      "    ],\n",
      "    \"remaining\": 309\n",
      "}\n",
      "2 of SPADES\n"
     ]
    }
   ],
   "source": [
    "# Draw a third card\n",
    "draw_one = requests.get(draw_one_url).json()\n",
    "print(json.dumps(draw_one, indent=4))\n",
    "\n",
    "# Select returned card's value and suit (i.e. 3 of clubs)\n",
    "value3 = draw_one['cards'][0]['value']\n",
    "suit3 = draw_one['cards'][0]['suit']\n",
    "player_1_card_3 = f\"{value3} of {suit3}\"\n",
    "# Print player card\n",
    "print(player_1_card_3)"
   ]
  },
  {
   "cell_type": "markdown",
   "metadata": {},
   "source": [
    "### Manually calculate player 1 points and enter below"
   ]
  },
  {
   "cell_type": "markdown",
   "metadata": {},
   "source": [
    "Player 1 points = "
   ]
  },
  {
   "cell_type": "raw",
   "metadata": {},
   "source": [
    "21"
   ]
  },
  {
   "cell_type": "markdown",
   "metadata": {},
   "source": [
    "## Player 2 / Dealer Turn"
   ]
  },
  {
   "cell_type": "code",
   "execution_count": 8,
   "metadata": {},
   "outputs": [
    {
     "name": "stdout",
     "output_type": "stream",
     "text": [
      "{\n",
      "    \"success\": true,\n",
      "    \"deck_id\": \"t3jx4c299kpp\",\n",
      "    \"cards\": [\n",
      "        {\n",
      "            \"code\": \"7C\",\n",
      "            \"image\": \"https://deckofcardsapi.com/static/img/7C.png\",\n",
      "            \"images\": {\n",
      "                \"svg\": \"https://deckofcardsapi.com/static/img/7C.svg\",\n",
      "                \"png\": \"https://deckofcardsapi.com/static/img/7C.png\"\n",
      "            },\n",
      "            \"value\": \"7\",\n",
      "            \"suit\": \"CLUBS\"\n",
      "        },\n",
      "        {\n",
      "            \"code\": \"2S\",\n",
      "            \"image\": \"https://deckofcardsapi.com/static/img/2S.png\",\n",
      "            \"images\": {\n",
      "                \"svg\": \"https://deckofcardsapi.com/static/img/2S.svg\",\n",
      "                \"png\": \"https://deckofcardsapi.com/static/img/2S.png\"\n",
      "            },\n",
      "            \"value\": \"2\",\n",
      "            \"suit\": \"SPADES\"\n",
      "        }\n",
      "    ],\n",
      "    \"remaining\": 310\n",
      "}\n"
     ]
    },
    {
     "ename": "NameError",
     "evalue": "name 'player_2_card_1' is not defined",
     "output_type": "error",
     "traceback": [
      "\u001b[1;31m---------------------------------------------------------------------------\u001b[0m",
      "\u001b[1;31mNameError\u001b[0m                                 Traceback (most recent call last)",
      "\u001b[1;32m~\\AppData\\Local\\Temp\\ipykernel_21064\\715072931.py\u001b[0m in \u001b[0;36m<module>\u001b[1;34m\u001b[0m\n\u001b[0;32m      6\u001b[0m \u001b[1;33m\u001b[0m\u001b[0m\n\u001b[0;32m      7\u001b[0m \u001b[1;31m# Print player cards\u001b[0m\u001b[1;33m\u001b[0m\u001b[1;33m\u001b[0m\u001b[1;33m\u001b[0m\u001b[0m\n\u001b[1;32m----> 8\u001b[1;33m \u001b[0mprint\u001b[0m\u001b[1;33m(\u001b[0m\u001b[0mplayer_2_card_1\u001b[0m\u001b[1;33m)\u001b[0m\u001b[1;33m\u001b[0m\u001b[1;33m\u001b[0m\u001b[0m\n\u001b[0m\u001b[0;32m      9\u001b[0m \u001b[0mprint\u001b[0m\u001b[1;33m(\u001b[0m\u001b[0mplayer_2_card_2\u001b[0m\u001b[1;33m)\u001b[0m\u001b[1;33m\u001b[0m\u001b[1;33m\u001b[0m\u001b[0m\n\u001b[0;32m     10\u001b[0m \u001b[1;33m\u001b[0m\u001b[0m\n",
      "\u001b[1;31mNameError\u001b[0m: name 'player_2_card_1' is not defined"
     ]
    }
   ],
   "source": [
    "# Draw two cards for player 1\n",
    "print(json.dumps(draw_cards, indent=4))\n",
    "\n",
    "# Select card value and suit \n",
    "\n",
    "\n",
    "# Print player cards\n",
    "print(player_2_card_1)\n",
    "print(player_2_card_2)\n",
    "\n",
    "# Draw third card for player 2\n",
    "\n",
    "\n",
    "# Print player card\n",
    "print(player_2_card_3)"
   ]
  },
  {
   "cell_type": "markdown",
   "metadata": {},
   "source": [
    "### Manually calculate player 2 points and enter below"
   ]
  },
  {
   "cell_type": "markdown",
   "metadata": {},
   "source": [
    "Player 2 points ="
   ]
  },
  {
   "cell_type": "raw",
   "metadata": {},
   "source": []
  }
 ],
 "metadata": {
  "kernelspec": {
   "display_name": "Python 3 (ipykernel)",
   "language": "python",
   "name": "python3"
  },
  "language_info": {
   "codemirror_mode": {
    "name": "ipython",
    "version": 3
   },
   "file_extension": ".py",
   "mimetype": "text/x-python",
   "name": "python",
   "nbconvert_exporter": "python",
   "pygments_lexer": "ipython3",
   "version": "3.7.13"
  }
 },
 "nbformat": 4,
 "nbformat_minor": 4
}
